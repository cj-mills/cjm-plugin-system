{
 "cells": [
  {
   "cell_type": "markdown",
   "id": "8a34c98f",
   "metadata": {},
   "source": [
    "# Plugin Metadata\n",
    "\n",
    "> Data structures for plugin metadata"
   ]
  },
  {
   "cell_type": "code",
   "execution_count": null,
   "id": "0df874a6",
   "metadata": {},
   "outputs": [],
   "source": [
    "#| default_exp core.metadata"
   ]
  },
  {
   "cell_type": "code",
   "execution_count": null,
   "id": "eaf2c42d",
   "metadata": {},
   "outputs": [],
   "source": [
    "#| hide\n",
    "from nbdev.showdoc import *"
   ]
  },
  {
   "cell_type": "code",
   "execution_count": null,
   "id": "82130a8f",
   "metadata": {},
   "outputs": [],
   "source": [
    "#| export\n",
    "from dataclasses import dataclass, field\n",
    "from typing import Optional, Any"
   ]
  },
  {
   "cell_type": "markdown",
   "id": "a6eae8a5",
   "metadata": {},
   "source": [
    "## PluginMeta\n",
    "\n",
    "The `PluginMeta` dataclass stores metadata about a plugin, including its name, version, and runtime state."
   ]
  },
  {
   "cell_type": "code",
   "execution_count": null,
   "id": "cf0ae1a9",
   "metadata": {},
   "outputs": [],
   "source": [
    "#| export\n",
    "@dataclass\n",
    "class PluginMeta:\n",
    "    \"\"\"Metadata about a plugin.\"\"\"\n",
    "    name: str  # The plugin's unique identifier\n",
    "    version: str  # The plugin's version string\n",
    "    description: str = \"\"  # A brief description of the plugin's functionality\n",
    "    author: str = \"\"  # The plugin author's name or organization\n",
    "    package_name: str = \"\"  # The Python package name containing the plugin\n",
    "    instance: Optional[Any] = None  # The plugin instance (PluginInterface subclass)\n",
    "    enabled: bool = True  # Whether the plugin is enabled"
   ]
  },
  {
   "cell_type": "markdown",
   "id": "a8654589",
   "metadata": {},
   "source": [
    "### Example: Creating Plugin Metadata"
   ]
  },
  {
   "cell_type": "code",
   "execution_count": null,
   "id": "6416b554",
   "metadata": {},
   "outputs": [
    {
     "name": "stdout",
     "output_type": "stream",
     "text": [
      "PluginMeta instance:\n",
      "PluginMeta(name='example_plugin', version='1.0.0', description='An example plugin', author='Example Author', package_name='', instance=None, enabled=True)\n",
      "\n",
      "Name: example_plugin\n",
      "Version: 1.0.0\n",
      "Enabled: True\n",
      "Instance: None\n"
     ]
    }
   ],
   "source": [
    "# Create plugin metadata\n",
    "meta = PluginMeta(\n",
    "    name=\"example_plugin\",\n",
    "    version=\"1.0.0\",\n",
    "    description=\"An example plugin\",\n",
    "    author=\"Example Author\"\n",
    ")\n",
    "\n",
    "print(\"PluginMeta instance:\")\n",
    "print(meta)\n",
    "print(f\"\\nName: {meta.name}\")\n",
    "print(f\"Version: {meta.version}\")\n",
    "print(f\"Enabled: {meta.enabled}\")\n",
    "print(f\"Instance: {meta.instance}\")"
   ]
  },
  {
   "cell_type": "code",
   "execution_count": null,
   "id": "9f9db9a7",
   "metadata": {},
   "outputs": [
    {
     "name": "stdout",
     "output_type": "stream",
     "text": [
      "Minimal PluginMeta: PluginMeta(name='minimal', version='0.1.0', description='', author='', package_name='', instance=None, enabled=True)\n",
      "\n",
      "Equality test: True\n"
     ]
    }
   ],
   "source": [
    "# Test with minimal arguments\n",
    "minimal_meta = PluginMeta(name=\"minimal\", version=\"0.1.0\")\n",
    "print(f\"Minimal PluginMeta: {minimal_meta}\")\n",
    "\n",
    "# Test equality\n",
    "meta_copy = PluginMeta(name=\"minimal\", version=\"0.1.0\")\n",
    "print(f\"\\nEquality test: {minimal_meta == meta_copy}\")"
   ]
  },
  {
   "cell_type": "code",
   "execution_count": null,
   "id": "f7b6b782",
   "metadata": {},
   "outputs": [],
   "source": [
    "#| hide\n",
    "import nbdev; nbdev.nbdev_export()"
   ]
  }
 ],
 "metadata": {
  "kernelspec": {
   "display_name": "python3",
   "language": "python",
   "name": "python3"
  }
 },
 "nbformat": 4,
 "nbformat_minor": 5
}
