{
 "cells": [
  {
   "cell_type": "markdown",
   "id": "ac21faaf",
   "metadata": {},
   "source": [
    "# Configuration Validation\n",
    "\n",
    "> JSON Schema validation helpers for plugin configuration"
   ]
  },
  {
   "cell_type": "code",
   "execution_count": null,
   "id": "dff465f9",
   "metadata": {},
   "outputs": [],
   "source": [
    "#| default_exp utils.validation"
   ]
  },
  {
   "cell_type": "code",
   "execution_count": null,
   "id": "5258a08b",
   "metadata": {},
   "outputs": [],
   "source": [
    "#| hide\n",
    "from nbdev.showdoc import *"
   ]
  },
  {
   "cell_type": "code",
   "execution_count": null,
   "id": "d63b45d9",
   "metadata": {},
   "outputs": [],
   "source": [
    "#| export\n",
    "from typing import Dict, Any, Tuple, Optional\n",
    "\n",
    "try:\n",
    "    import jsonschema\n",
    "    HAS_JSONSCHEMA = True\n",
    "except ImportError:\n",
    "    HAS_JSONSCHEMA = False"
   ]
  },
  {
   "cell_type": "markdown",
   "id": "ddd0d6d4",
   "metadata": {},
   "source": [
    "## Validation Functions\n",
    "\n",
    "These functions provide JSON Schema validation with graceful fallback when `jsonschema` is not available."
   ]
  },
  {
   "cell_type": "code",
   "execution_count": null,
   "id": "548eca58",
   "metadata": {},
   "outputs": [],
   "source": [
    "#| export\n",
    "def validate_config(\n",
    "    config:Dict[str, Any], # Configuration to validate\n",
    "    schema:Dict[str, Any] # JSON Schema to validate against\n",
    ") -> Tuple[bool, Optional[str]]: # (is_valid, error_message)\n",
    "    \"\"\"Validate a configuration dictionary against a JSON Schema.\"\"\"\n",
    "    # If jsonschema is available, use it for validation\n",
    "    if HAS_JSONSCHEMA:\n",
    "        try:\n",
    "            jsonschema.validate(instance=config, schema=schema)\n",
    "            return True, None\n",
    "        except jsonschema.exceptions.ValidationError as e:\n",
    "            return False, str(e)\n",
    "        except Exception as e:\n",
    "            return False, f\"Validation error: {str(e)}\"\n",
    "    else:\n",
    "        # Basic validation without jsonschema\n",
    "        return _basic_validate(config, schema)"
   ]
  },
  {
   "cell_type": "markdown",
   "id": "oql5lcutypq",
   "metadata": {},
   "source": [
    "Uses the `jsonschema` library for full validation if available, otherwise falls back to basic validation.\n",
    "\n",
    "The basic validation (when `jsonschema` is not installed) provides minimal support checking:\n",
    "- Required fields\n",
    "- Field types\n",
    "- Enum values\n",
    "- Numeric constraints (minimum, maximum)"
   ]
  },
  {
   "cell_type": "code",
   "execution_count": null,
   "id": "9aabf900",
   "metadata": {},
   "outputs": [],
   "source": [
    "#| export\n",
    "def _basic_validate(\n",
    "    config:Dict[str, Any], # Configuration to validate\n",
    "    schema:Dict[str, Any] # JSON Schema to validate against\n",
    ") -> Tuple[bool, Optional[str]]: # (is_valid, error_message)\n",
    "    \"\"\"Basic validation without jsonschema library.\"\"\"\n",
    "    try:\n",
    "        # Check required fields\n",
    "        required_fields = schema.get(\"required\", [])\n",
    "        for field in required_fields:\n",
    "            if field not in config:\n",
    "                return False, f\"Missing required field: {field}\"\n",
    "\n",
    "        # Check field types if properties are defined\n",
    "        properties = schema.get(\"properties\", {})\n",
    "        for key, value in config.items():\n",
    "            if key in properties:\n",
    "                prop_schema = properties[key]\n",
    "\n",
    "                # Check enum values\n",
    "                if \"enum\" in prop_schema and value not in prop_schema[\"enum\"]:\n",
    "                    return False, f\"Invalid value for {key}: {value}. Must be one of {prop_schema['enum']}\"\n",
    "\n",
    "                # Basic type checking\n",
    "                expected_type = prop_schema.get(\"type\")\n",
    "                if expected_type:\n",
    "                    # Handle nullable types (e.g., [\"string\", \"null\"])\n",
    "                    if isinstance(expected_type, list):\n",
    "                        if value is None and \"null\" in expected_type:\n",
    "                            continue\n",
    "                        # Get the non-null type\n",
    "                        types = [t for t in expected_type if t != \"null\"]\n",
    "                        if types:\n",
    "                            expected_type = types[0]\n",
    "\n",
    "                    type_map = {\n",
    "                        \"string\": str,\n",
    "                        \"number\": (int, float),\n",
    "                        \"integer\": int,\n",
    "                        \"boolean\": bool,\n",
    "                        \"array\": list,\n",
    "                        \"object\": dict\n",
    "                    }\n",
    "                    expected_python_type = type_map.get(expected_type)\n",
    "                    if expected_python_type and not isinstance(value, expected_python_type):\n",
    "                        return False, f\"Invalid type for {key}: expected {expected_type}, got {type(value).__name__}\"\n",
    "\n",
    "                # Check numeric constraints\n",
    "                if isinstance(value, (int, float)):\n",
    "                    if \"minimum\" in prop_schema and value < prop_schema[\"minimum\"]:\n",
    "                        return False, f\"Value for {key} is below minimum: {value} < {prop_schema['minimum']}\"\n",
    "                    if \"maximum\" in prop_schema and value > prop_schema[\"maximum\"]:\n",
    "                        return False, f\"Value for {key} is above maximum: {value} > {prop_schema['maximum']}\"\n",
    "\n",
    "        return True, None\n",
    "    except Exception as e:\n",
    "        return False, f\"Validation error: {str(e)}\""
   ]
  },
  {
   "cell_type": "code",
   "execution_count": null,
   "id": "054fe1c3",
   "metadata": {},
   "outputs": [],
   "source": [
    "#| export\n",
    "def extract_defaults(\n",
    "    schema:Dict[str, Any] # JSON Schema\n",
    ") -> Dict[str, Any]: # Default values from schema\n",
    "    \"\"\"Extract default values from a JSON Schema.\"\"\"\n",
    "    defaults = {}\n",
    "\n",
    "    properties = schema.get(\"properties\", {})\n",
    "    for key, prop_schema in properties.items():\n",
    "        if \"default\" in prop_schema:\n",
    "            defaults[key] = prop_schema[\"default\"]\n",
    "\n",
    "    return defaults"
   ]
  },
  {
   "cell_type": "markdown",
   "id": "400278b6",
   "metadata": {},
   "source": [
    "### Example: Validating Configuration"
   ]
  },
  {
   "cell_type": "code",
   "execution_count": null,
   "id": "0451f819",
   "metadata": {},
   "outputs": [
    {
     "name": "stdout",
     "output_type": "stream",
     "text": [
      "Schema:\n",
      "{\n",
      "  \"type\": \"object\",\n",
      "  \"properties\": {\n",
      "    \"model\": {\n",
      "      \"type\": \"string\",\n",
      "      \"enum\": [\n",
      "        \"tiny\",\n",
      "        \"base\",\n",
      "        \"small\",\n",
      "        \"medium\",\n",
      "        \"large\"\n",
      "      ],\n",
      "      \"default\": \"base\",\n",
      "      \"description\": \"Model size to use\"\n",
      "    },\n",
      "    \"temperature\": {\n",
      "      \"type\": \"number\",\n",
      "      \"minimum\": 0.0,\n",
      "      \"maximum\": 1.0,\n",
      "      \"default\": 0.0\n",
      "    },\n",
      "    \"batch_size\": {\n",
      "      \"type\": \"integer\",\n",
      "      \"minimum\": 1,\n",
      "      \"maximum\": 32,\n",
      "      \"default\": 8\n",
      "    }\n",
      "  },\n",
      "  \"required\": [\n",
      "    \"model\"\n",
      "  ]\n",
      "}\n"
     ]
    }
   ],
   "source": [
    "import json\n",
    "\n",
    "# Define a schema\n",
    "schema = {\n",
    "    \"type\": \"object\",\n",
    "    \"properties\": {\n",
    "        \"model\": {\n",
    "            \"type\": \"string\",\n",
    "            \"enum\": [\"tiny\", \"base\", \"small\", \"medium\", \"large\"],\n",
    "            \"default\": \"base\",\n",
    "            \"description\": \"Model size to use\"\n",
    "        },\n",
    "        \"temperature\": {\n",
    "            \"type\": \"number\",\n",
    "            \"minimum\": 0.0,\n",
    "            \"maximum\": 1.0,\n",
    "            \"default\": 0.0\n",
    "        },\n",
    "        \"batch_size\": {\n",
    "            \"type\": \"integer\",\n",
    "            \"minimum\": 1,\n",
    "            \"maximum\": 32,\n",
    "            \"default\": 8\n",
    "        }\n",
    "    },\n",
    "    \"required\": [\"model\"]\n",
    "}\n",
    "\n",
    "print(\"Schema:\")\n",
    "print(json.dumps(schema, indent=2))"
   ]
  },
  {
   "cell_type": "code",
   "execution_count": null,
   "id": "9598f11d",
   "metadata": {},
   "outputs": [
    {
     "name": "stdout",
     "output_type": "stream",
     "text": [
      "\n",
      "Validating valid configurations:\n",
      "Config: {'model': 'tiny'}\n",
      "  Valid: True\n",
      "Config: {'model': 'base', 'temperature': 0.5}\n",
      "  Valid: True\n",
      "Config: {'model': 'large', 'batch_size': 16}\n",
      "  Valid: True\n"
     ]
    }
   ],
   "source": [
    "# Test valid configurations\n",
    "valid_configs = [\n",
    "    {\"model\": \"tiny\"},\n",
    "    {\"model\": \"base\", \"temperature\": 0.5},\n",
    "    {\"model\": \"large\", \"batch_size\": 16}\n",
    "]\n",
    "\n",
    "print(\"\\nValidating valid configurations:\")\n",
    "for config in valid_configs:\n",
    "    is_valid, error = validate_config(config, schema)\n",
    "    print(f\"Config: {config}\")\n",
    "    print(f\"  Valid: {is_valid}\")\n",
    "    if error:\n",
    "        print(f\"  Error: {error}\")"
   ]
  },
  {
   "cell_type": "code",
   "execution_count": null,
   "id": "bb89afe5",
   "metadata": {},
   "outputs": [
    {
     "name": "stdout",
     "output_type": "stream",
     "text": [
      "\n",
      "Validating invalid configurations:\n",
      "\n",
      "Missing required 'model' field:\n",
      "  Config: {'temperature': 0.5}\n",
      "  Valid: False\n",
      "  Error: 'model' is a required property\n",
      "\n",
      "Failed validating 'required' in schema:\n",
      "    {'type': 'object',\n",
      "     ...\n",
      "\n",
      "Invalid enum value:\n",
      "  Config: {'model': 'invalid'}\n",
      "  Valid: False\n",
      "  Error: 'invalid' is not one of ['tiny', 'base', 'small', 'medium', 'large']\n",
      "\n",
      "Failed validating 'enum' in sc...\n",
      "\n",
      "Temperature exceeds maximum:\n",
      "  Config: {'model': 'base', 'temperature': 1.5}\n",
      "  Valid: False\n",
      "  Error: 1.5 is greater than the maximum of 1.0\n",
      "\n",
      "Failed validating 'maximum' in schema['properties']['tempera...\n",
      "\n",
      "Batch size exceeds maximum:\n",
      "  Config: {'model': 'base', 'batch_size': 100}\n",
      "  Valid: False\n",
      "  Error: 100 is greater than the maximum of 32\n",
      "\n",
      "Failed validating 'maximum' in schema['properties']['batch_si...\n"
     ]
    }
   ],
   "source": [
    "# Test invalid configurations\n",
    "invalid_configs = [\n",
    "    ({\"temperature\": 0.5}, \"Missing required 'model' field\"),\n",
    "    ({\"model\": \"invalid\"}, \"Invalid enum value\"),\n",
    "    ({\"model\": \"base\", \"temperature\": 1.5}, \"Temperature exceeds maximum\"),\n",
    "    ({\"model\": \"base\", \"batch_size\": 100}, \"Batch size exceeds maximum\")\n",
    "]\n",
    "\n",
    "print(\"\\nValidating invalid configurations:\")\n",
    "for config, description in invalid_configs:\n",
    "    is_valid, error = validate_config(config, schema)\n",
    "    print(f\"\\n{description}:\")\n",
    "    print(f\"  Config: {config}\")\n",
    "    print(f\"  Valid: {is_valid}\")\n",
    "    if error:\n",
    "        print(f\"  Error: {error[:100]}...\")  # Truncate long errors"
   ]
  },
  {
   "cell_type": "code",
   "execution_count": null,
   "id": "063d71c4",
   "metadata": {},
   "outputs": [
    {
     "name": "stdout",
     "output_type": "stream",
     "text": [
      "\n",
      "Default values extracted from schema:\n",
      "{\n",
      "  \"model\": \"base\",\n",
      "  \"temperature\": 0.0,\n",
      "  \"batch_size\": 8\n",
      "}\n"
     ]
    }
   ],
   "source": [
    "# Test extracting defaults\n",
    "defaults = extract_defaults(schema)\n",
    "print(\"\\nDefault values extracted from schema:\")\n",
    "print(json.dumps(defaults, indent=2))"
   ]
  },
  {
   "cell_type": "code",
   "execution_count": null,
   "id": "6368b8c3",
   "metadata": {},
   "outputs": [],
   "source": [
    "#| hide\n",
    "import nbdev; nbdev.nbdev_export()"
   ]
  }
 ],
 "metadata": {
  "kernelspec": {
   "display_name": "python3",
   "language": "python",
   "name": "python3"
  }
 },
 "nbformat": 4,
 "nbformat_minor": 5
}
